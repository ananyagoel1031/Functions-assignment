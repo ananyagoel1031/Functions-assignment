{
 "cells": [
  {
   "cell_type": "markdown",
   "id": "f78477cf-68e7-4516-aeb7-f6b2a159b85c",
   "metadata": {},
   "source": [
    "# Functions - Assignment"
   ]
  },
  {
   "cell_type": "markdown",
   "id": "b8a0efc8-7119-4b19-9ff6-3ce2d7694d67",
   "metadata": {},
   "source": [
    "## Theory Questions"
   ]
  },
  {
   "cell_type": "markdown",
   "id": "8b8c81a3-c464-47fa-9b37-a43307679b0e",
   "metadata": {},
   "source": [
    "### Q1.  What is the difference between a function and a method in Python?"
   ]
  },
  {
   "cell_type": "markdown",
   "id": "cd29bf10-e235-4c01-96c2-fe367fad37a0",
   "metadata": {},
   "source": [
    "#### A1. A function is a block of reusable code defined using the def keyword. Functions are independent and not tied to any specific object. Called directly using its name.\n",
    "\n",
    "#### While, A method is essentially a function that is associated with an object (usually part of a class). Methods operate on the object they belong to and can access or modify the object's attributes. Called on an object using the dot (.) notation.\n",
    "\n",
    "#### Illustrations:"
   ]
  },
  {
   "cell_type": "code",
   "execution_count": 99,
   "id": "cfb6dd57-81bc-4079-9c0b-f94df0142e42",
   "metadata": {},
   "outputs": [
    {
     "name": "stdout",
     "output_type": "stream",
     "text": [
      "Hello, Alice!\n"
     ]
    }
   ],
   "source": [
    "#defining a function\n",
    "def greet(name):\n",
    "    return f\"Hello, {name}!\"\n",
    "\n",
    "print(greet(\"Alice\"))  # Output: Hello, Alice!\n"
   ]
  },
  {
   "cell_type": "code",
   "execution_count": 100,
   "id": "d47af982-30e1-4a53-bb57-e7d071f7679e",
   "metadata": {},
   "outputs": [
    {
     "name": "stdout",
     "output_type": "stream",
     "text": [
      "Hello, Alice!\n"
     ]
    }
   ],
   "source": [
    "#defining the method\n",
    "class Greeter:\n",
    "    def __init__(self, name):\n",
    "        self.name = name\n",
    "\n",
    "    def greet(self):\n",
    "        return f\"Hello, {self.name}!\"\n",
    "\n",
    "greeter = Greeter(\"Alice\")\n",
    "print(greeter.greet())  # Output: Hello, Alice!\n"
   ]
  },
  {
   "cell_type": "markdown",
   "id": "ae0d9f0a-839d-4a37-8fcb-10b055b4fa48",
   "metadata": {},
   "source": [
    "### Q2.  Explain the concept of function arguments and parameters in Python."
   ]
  },
  {
   "cell_type": "markdown",
   "id": "ee5fc3c1-7aea-492b-b950-dcfc51251211",
   "metadata": {},
   "source": [
    "#### A2.  Parameters are the variables listed inside the parentheses in the function definition. They act as placeholders for the values that the function will receive when it is called.\n",
    "\n",
    "#### Arguments are the actual values that you pass to the function when you call it. These values replace the parameters defined in the function.\n",
    "\n",
    "#### Illustration:"
   ]
  },
  {
   "cell_type": "code",
   "execution_count": 102,
   "id": "5ea92208-9183-4e6d-a544-7f42b01a16cf",
   "metadata": {},
   "outputs": [
    {
     "name": "stdout",
     "output_type": "stream",
     "text": [
      "3\n"
     ]
    }
   ],
   "source": [
    "# Here a,b are the parameters\n",
    "def sum(a,b):\n",
    "  print(a+b)\n",
    "  \n",
    "sum(1,2)# here, 1,2 are the parameters"
   ]
  },
  {
   "cell_type": "markdown",
   "id": "7292322f-296f-43d3-81c1-ac078ab09320",
   "metadata": {},
   "source": [
    "### Q3. What are the different ways to define and call a function in Python?"
   ]
  },
  {
   "cell_type": "markdown",
   "id": "9a843da4-90bb-45df-aaee-9c267d4cdb65",
   "metadata": {},
   "source": [
    "#### A3. By using the word def keyword followed by the function's name and parentheses () we can define a function. If the function takes any arguments, they are included inside the parentheses. The code inside a function must be indented after the colon to indicate it belongs to that function.\n",
    "\n",
    "#### Syntax of defining a function:\n",
    "#### def function_name(parameters):\n",
    "#### Code to be executed\n",
    "#### return value"
   ]
  },
  {
   "cell_type": "code",
   "execution_count": 111,
   "id": "31f10584-f33a-4a94-a8fa-92f3c2cf950d",
   "metadata": {},
   "outputs": [],
   "source": [
    "# Defining a function with parameters    \n",
    "def greet(name): \n",
    "    print(\"Welcome\",name,\"!\")"
   ]
  },
  {
   "cell_type": "markdown",
   "id": "4276508e-b67f-4fd4-81b2-1636d2b55cb2",
   "metadata": {},
   "source": [
    "#### To call a function in Python, we definitely type the name of the function observed via parentheses (). If the function takes any arguments, they may be covered within the parentheses.\n",
    "#### Syntax of Calling a function:\n",
    "#### function_name(arguments)"
   ]
  },
  {
   "cell_type": "code",
   "execution_count": 112,
   "id": "77f17288-c555-4cf9-ad34-6d32502c13ff",
   "metadata": {},
   "outputs": [
    {
     "name": "stdout",
     "output_type": "stream",
     "text": [
      "Welcome Alice !\n"
     ]
    }
   ],
   "source": [
    "#calling the function greet\n",
    "greet(\"Alice\")"
   ]
  },
  {
   "cell_type": "markdown",
   "id": "209fffb9-d9b3-4570-bcc1-b97cc8a82c06",
   "metadata": {},
   "source": [
    "### Q4. What is the purpose of the return statement in a Python function?"
   ]
  },
  {
   "cell_type": "markdown",
   "id": "37e8065a-88b7-4dd6-8bf0-d29c901c772c",
   "metadata": {},
   "source": [
    "#### A return statement is used to end the execution of the function call and it \"returns\" the value of the expression following the return keyword to the caller. The statements after the return statements are not executed. If the return statement is without any expression, then the special value None is returned. A return statement is overall used to invoke a function so that the passed statements can be executed.\n",
    "#### For example:"
   ]
  },
  {
   "cell_type": "code",
   "execution_count": 113,
   "id": "577d7b9c-5fd6-401e-b30b-b0bce61dbf30",
   "metadata": {},
   "outputs": [
    {
     "name": "stdout",
     "output_type": "stream",
     "text": [
      "5\n"
     ]
    }
   ],
   "source": [
    "def add(a, b):\n",
    "\n",
    "    # returning sum of a and b\n",
    "    return a + b\n",
    "\n",
    "# calling function\n",
    "res = add(2, 3)\n",
    "print(res)\n"
   ]
  },
  {
   "cell_type": "markdown",
   "id": "d53a19db-c836-4fdd-bc89-9895aef32afe",
   "metadata": {},
   "source": [
    "### Q5. What are iterators in Python and how do they differ from iterables?"
   ]
  },
  {
   "cell_type": "markdown",
   "id": "900629c3-c836-478c-aa76-3b999f2eed15",
   "metadata": {},
   "source": [
    "#### A5. An iterator is an object that represents a stream of data. It is the object returned by calling iter() on an iterable.\n",
    "#### An iterator must implement two methods:\n",
    "#### __iter__() – Returns the iterator object itself.\n",
    "#### __next__() – Returns the next element in the sequence. \n",
    "\n",
    "\n",
    "#### While, an iterable is any Python object capable of returning its elements one at a time. Examples include lists, tuples, strings, dictionaries, and sets.\n",
    "#### An iterable must implement the __iter__() method, which returns an iterator.\n",
    "\n",
    "#### Iterator differ from iterables as:\n",
    "#### 1. Iterables can be used in a for loop directly because Python implicitly calls iter() on them to get an iterator while iterator produces one value at a time.\n",
    "#### 2. All iterators are iterables, but not all iterables are iterators.\n",
    "#### 3. Iterables need to be converted into iterators (using iter()) to fetch elements one at a time with next().\n",
    "\n",
    "#### Illustrations:"
   ]
  },
  {
   "cell_type": "code",
   "execution_count": 1,
   "id": "0a577981-1364-4615-9864-5274d9b28c23",
   "metadata": {},
   "outputs": [
    {
     "name": "stdout",
     "output_type": "stream",
     "text": [
      "1\n",
      "2\n",
      "3\n"
     ]
    }
   ],
   "source": [
    "my_list = [1, 2, 3]  # A list is an iterable\n",
    "for item in my_list:\n",
    "    print(item)"
   ]
  },
  {
   "cell_type": "code",
   "execution_count": 2,
   "id": "4228eed3-6d49-4855-b6c6-f0a9600acd03",
   "metadata": {},
   "outputs": [
    {
     "name": "stdout",
     "output_type": "stream",
     "text": [
      "1\n",
      "2\n",
      "3\n"
     ]
    }
   ],
   "source": [
    "my_list = [1, 2, 3]\n",
    "iterator = iter(my_list)  # Create an iterator from the list\n",
    "\n",
    "print(next(iterator))  # Output: 1\n",
    "print(next(iterator))  # Output: 2\n",
    "print(next(iterator))  # Output: 3\n",
    "# next(iterator)  # Raises StopIteration\n"
   ]
  },
  {
   "cell_type": "markdown",
   "id": "5846cece-d2a6-4e9a-8f7d-5c89d9d48ecb",
   "metadata": {},
   "source": [
    "### Q6. Explain the concept of generators in Python and how they are defined."
   ]
  },
  {
   "cell_type": "markdown",
   "id": "7ea6b875-6ac8-4859-bc86-7b2c1a21b6d0",
   "metadata": {},
   "source": [
    "#### A6. Python generators are a special type of function that allow you to produce a sequence of values lazily, meaning they generate values on demand rather than computing and storing them all at once. This makes them highly memory-efficient and ideal for handling large datasets or infinite sequences.\n",
    "#### A generator function is defined like a normal function but uses the yield keyword instead of return.\n",
    "#### Example:"
   ]
  },
  {
   "cell_type": "code",
   "execution_count": 6,
   "id": "23b23aac-a351-4bab-ae0a-df012b157df5",
   "metadata": {},
   "outputs": [
    {
     "name": "stdout",
     "output_type": "stream",
     "text": [
      "1\n",
      "2\n",
      "3\n",
      "4\n",
      "5\n"
     ]
    }
   ],
   "source": [
    "def count_up(n):\n",
    "    count = 1\n",
    "    while count <= n:\n",
    "       yield count #here we use yield instead of return\n",
    "       count += 1\n",
    "\n",
    "# Using the generator\n",
    "for number in count_up(5):\n",
    "      print(number)"
   ]
  },
  {
   "cell_type": "markdown",
   "id": "6f28bc38-93e8-4744-b622-a8292f2eefeb",
   "metadata": {},
   "source": [
    "### Q7.  What are the advantages of using generators over regular functions?"
   ]
  },
  {
   "cell_type": "markdown",
   "id": "f0b45914-97a1-46fd-b57c-1f82319ff313",
   "metadata": {},
   "source": [
    "#### A7. Generators offer significant advantages over regular functions, including memory efficiency, lazy evaluation, and ease of creating iterators, making them ideal for handling large datasets and infinite sequences.\n",
    "\n",
    "#### Key advantages:\n",
    "#### 1. Memory Efficiency: Generators produce values one at a time and do not store the entire sequence in memory.\n",
    "#### 2. Simplified Iterator Creation: Instead of using iter() and next() methods, we can simple use yield to see the output."
   ]
  },
  {
   "cell_type": "code",
   "execution_count": 7,
   "id": "11075253-6d93-49aa-a81c-ef57f3f53074",
   "metadata": {},
   "outputs": [
    {
     "name": "stdout",
     "output_type": "stream",
     "text": [
      "2\n",
      "4\n"
     ]
    }
   ],
   "source": [
    "# generator function\n",
    "def Square():\n",
    "    \n",
    "    number = 2\n",
    "    \n",
    "    #Create infinite loop\n",
    "    while True:\n",
    "        # Yield the current value of 'number'\n",
    "        yield number\n",
    "        \n",
    "        # Calculate the square of 'number' and update its value\n",
    "        number *= number\n",
    "\n",
    "# Create a generator object 'Sq' by calling the 'Square()' generator function\n",
    "Sq = Square()\n",
    "\n",
    "# Function call\n",
    "print(next(Sq))  # Output: 2\n",
    "\n",
    " \n",
    "print(next(Sq))  # Output: 4"
   ]
  },
  {
   "cell_type": "markdown",
   "id": "739d6aab-eece-45c1-9425-2b8885f17499",
   "metadata": {},
   "source": [
    "### Q8. What is a lambda function in Python and when is it typically used?"
   ]
  },
  {
   "cell_type": "markdown",
   "id": "04e62c15-3f7a-48df-aa64-f7b736299326",
   "metadata": {},
   "source": [
    "#### A8. A  lambda function in Python is a small, anonymous function defined using the lambda keyword. Unlike regular functions created with def, lambda functions are limited to a single expression and do not require a name. \n",
    "#### They are often used for short, simple operations where defining a full function might feel excessive. \n",
    "#### Syntax: \n",
    "#### lambda arguments: expression\n",
    "\n",
    "#### Example:"
   ]
  },
  {
   "cell_type": "code",
   "execution_count": 8,
   "id": "7c615cf8-2cfa-4cf7-b710-62e219e40937",
   "metadata": {},
   "outputs": [
    {
     "name": "stdout",
     "output_type": "stream",
     "text": [
      "25\n"
     ]
    }
   ],
   "source": [
    "square = lambda x: x ** 2\n",
    "print(square(5))"
   ]
  },
  {
   "cell_type": "markdown",
   "id": "a8c160f9-9617-4848-b7c7-1d693d7adb38",
   "metadata": {},
   "source": [
    "### Q9.Explain the purpose and usage of the map() function in Python."
   ]
  },
  {
   "cell_type": "markdown",
   "id": "fe30f99f-5ea0-4f51-81bd-0ca76c5fe2d5",
   "metadata": {},
   "source": [
    "#### A9. The map() function in Python is used to apply a specified function to each item of an iterable (like a list or tuple) and returns a map object (an iterator). It is particularly useful for transforming data efficiently.\n",
    "#### Syntax:\n",
    "#### map(function, iterable)\n",
    "#### where, function: The function to apply to each element of the iterable.\n",
    "#### iterable: The sequence (e.g., list, tuple) whose elements will be processed.\n",
    "\n",
    "#### Example:"
   ]
  },
  {
   "cell_type": "code",
   "execution_count": 9,
   "id": "a37a9a33-afb0-43ee-af2e-24708f9fe049",
   "metadata": {},
   "outputs": [
    {
     "name": "stdout",
     "output_type": "stream",
     "text": [
      "[1, 4, 9, 16, 25]\n"
     ]
    }
   ],
   "source": [
    "numbers = [1, 2, 3, 4, 5]\n",
    "squared_numbers = list(map(lambda x: x ** 2, numbers))\n",
    "print(squared_numbers)"
   ]
  },
  {
   "cell_type": "markdown",
   "id": "d9651ed1-e259-4fa8-8c3d-6b57083d8dbe",
   "metadata": {},
   "source": [
    "### Q10. What is the difference between map(), reduce(), and filter() functions in Python?"
   ]
  },
  {
   "cell_type": "markdown",
   "id": "29801568-221a-49be-9a44-9c5a11dedfed",
   "metadata": {},
   "source": [
    "#### A10. Difference Between:\n",
    "#### 1. map() Function: The map() function applies a given function to each item in an iterable (like a list or tuple) and returns a map object (an iterator). It is commonly used for transforming data.\n",
    "#### Syntax: map(function, iterable)\n",
    "#### Example:"
   ]
  },
  {
   "cell_type": "code",
   "execution_count": 10,
   "id": "5d1ad131-7859-4951-91e5-0bfab7b4afb0",
   "metadata": {},
   "outputs": [
    {
     "name": "stdout",
     "output_type": "stream",
     "text": [
      "[1, 4, 9, 16, 25]\n"
     ]
    }
   ],
   "source": [
    "numbers = [1, 2, 3, 4, 5]\n",
    "squared_numbers = list(map(lambda x: x ** 2, numbers))\n",
    "print(squared_numbers)"
   ]
  },
  {
   "cell_type": "markdown",
   "id": "71d18229-cd83-474b-b57a-82c22357294d",
   "metadata": {},
   "source": [
    "#### 2. filter() Function: The filter() function filters elements from an iterable based on a function that returns True or False. It returns an iterator containing only the elements that satisfy the condition.\n",
    "#### Syntax: filter(function, iterable)\n",
    "\n",
    "#### Example:"
   ]
  },
  {
   "cell_type": "code",
   "execution_count": 12,
   "id": "3a25feea-174e-4459-afaf-80d7cbbec687",
   "metadata": {},
   "outputs": [
    {
     "name": "stdout",
     "output_type": "stream",
     "text": [
      "[2, 4, 6]\n"
     ]
    }
   ],
   "source": [
    "# Filter even numbers from a list\n",
    "def is_even(n):\n",
    "     return n % 2 == 0\n",
    "\n",
    "numbers = [1, 2, 3, 4, 5, 6]\n",
    "even_numbers = filter(is_even, numbers)\n",
    "print(list(even_numbers)) "
   ]
  },
  {
   "cell_type": "markdown",
   "id": "1572d51e-2da5-4ccb-ad90-5eb329ad16e3",
   "metadata": {},
   "source": [
    "#### 3. reduce() Function: The reduce() function applies a function cumulatively to the items of an iterable, reducing it to a single value. Unlike map() and filter(), it is not built-in and must be imported from the functools module.\n",
    "#### Syntax: reduce(function, iterable[, initial])\n",
    "\n",
    "#### Example:"
   ]
  },
  {
   "cell_type": "code",
   "execution_count": 13,
   "id": "287cd586-28aa-4645-8557-8bb91651d622",
   "metadata": {},
   "outputs": [
    {
     "name": "stdout",
     "output_type": "stream",
     "text": [
      "24\n"
     ]
    }
   ],
   "source": [
    "from functools import reduce\n",
    "\n",
    "# Compute the product of a list\n",
    "numbers = [1, 2, 3, 4]\n",
    "product = reduce(lambda x, y: x * y, numbers)\n",
    "print(product) "
   ]
  },
  {
   "cell_type": "markdown",
   "id": "d715732e-c6d2-46b1-8579-29888496b55a",
   "metadata": {},
   "source": [
    "### Q11.  Using pen & Paper write the internal mechanism for sum operation using  reduce function on this given list [47,11,42,13]"
   ]
  },
  {
   "cell_type": "markdown",
   "id": "8e149943-3251-409d-9e77-ad1dea477662",
   "metadata": {},
   "source": [
    "#### A11. \n",
    "![]( C:\\Users\\HP\\Documents\\IMG-20250726-WA0000.jpg)"
   ]
  },
  {
   "cell_type": "markdown",
   "id": "3c31522d-9b3d-4f59-9756-01d0fa8eebde",
   "metadata": {},
   "source": [
    "## Practical Questions:"
   ]
  },
  {
   "cell_type": "markdown",
   "id": "6b064edd-8857-4582-9af7-ba83bb5fe3da",
   "metadata": {},
   "source": [
    "### Q1.  Write a Python function that takes a list of numbers as input and returns the sum of all even numbers in the list."
   ]
  },
  {
   "cell_type": "code",
   "execution_count": 16,
   "id": "53253466-c4d1-489b-ae4e-4bffbd10c6e6",
   "metadata": {},
   "outputs": [],
   "source": [
    "def sum_num(list):\n",
    "     sum=0\n",
    "     for i in list:\n",
    "         if i%2==0:\n",
    "             sum=sum+i\n",
    "     print(sum)\n",
    "# it add all the even numbers from the input list"
   ]
  },
  {
   "cell_type": "code",
   "execution_count": 17,
   "id": "cee6fd26-479e-498f-acac-97ec09a274e8",
   "metadata": {},
   "outputs": [
    {
     "name": "stdout",
     "output_type": "stream",
     "text": [
      "16\n"
     ]
    }
   ],
   "source": [
    "sum_num([2,3,5,6,8,7,9])"
   ]
  },
  {
   "cell_type": "markdown",
   "id": "df1f6b69-fc9d-4c64-8c31-d85973d63919",
   "metadata": {},
   "source": [
    "### Q2. Create a Python function that accepts a string and returns the reverse of that string."
   ]
  },
  {
   "cell_type": "code",
   "execution_count": 24,
   "id": "5537c73d-eb6b-401c-9f9a-e588a17e1671",
   "metadata": {},
   "outputs": [],
   "source": [
    "def reverse_string(str):\n",
    "     return str[::-1]"
   ]
  },
  {
   "cell_type": "code",
   "execution_count": 26,
   "id": "bbaf68ee-0b4f-496b-9d41-4889175e61a2",
   "metadata": {},
   "outputs": [
    {
     "data": {
      "text/plain": [
       "'yajA'"
      ]
     },
     "execution_count": 26,
     "metadata": {},
     "output_type": "execute_result"
    }
   ],
   "source": [
    "reverse_string(\"Ajay\") #it reverse the string Ajay"
   ]
  },
  {
   "cell_type": "markdown",
   "id": "748c0d7e-e3d4-4f1b-a6bb-a8d2fe5c83cc",
   "metadata": {},
   "source": [
    "### Q3.  Implement a Python function that takes a list of integers and returns a new list containing the squares of each number."
   ]
  },
  {
   "cell_type": "code",
   "execution_count": 27,
   "id": "87ab456a-a5bf-4047-89e9-74a5327b722d",
   "metadata": {},
   "outputs": [],
   "source": [
    "def square_num(num):\n",
    "    squared_list=[]\n",
    "    for i in num:\n",
    "        squared_list.append(i**2)\n",
    "    return squared_list"
   ]
  },
  {
   "cell_type": "code",
   "execution_count": 28,
   "id": "5865332c-16a0-41cf-ba7e-ea6060f65954",
   "metadata": {},
   "outputs": [
    {
     "data": {
      "text/plain": [
       "[4, 9, 16, 25]"
      ]
     },
     "execution_count": 28,
     "metadata": {},
     "output_type": "execute_result"
    }
   ],
   "source": [
    "square_num([2,3,4,5])"
   ]
  },
  {
   "cell_type": "markdown",
   "id": "fd38896c-d81f-4dd0-b4f1-f22e6e40fc54",
   "metadata": {},
   "source": [
    "### Q4. Write a Python function that checks if a given number is prime or not from 1 to 200."
   ]
  },
  {
   "cell_type": "code",
   "execution_count": 40,
   "id": "5aa9502b-1760-42b2-a2cb-aae703e0c747",
   "metadata": {},
   "outputs": [],
   "source": [
    "def prime_check(num):\n",
    "    if (num>=1) & (num<=200):\n",
    "        if (num%2!=0) & (num&3!=0) & (num%5!=0) & (num%7!=0):\n",
    "            print(num,\" is a prime number\")\n",
    "        else:\n",
    "            print(num,\" is not a prime number\")\n",
    "\n",
    "# it checks whether the number is prime or not."
   ]
  },
  {
   "cell_type": "code",
   "execution_count": 39,
   "id": "b4722fbb-7238-4455-b0b1-82f1709935d6",
   "metadata": {},
   "outputs": [
    {
     "name": "stdout",
     "output_type": "stream",
     "text": [
      "17  is a prime number\n"
     ]
    }
   ],
   "source": [
    "prime_check(17)"
   ]
  },
  {
   "cell_type": "markdown",
   "id": "26556e90-6c0a-48ae-a596-db627aa6f755",
   "metadata": {},
   "source": [
    "### Q5. Create an iterator class in Python that generates the Fibonacci sequence up to a specified number of terms."
   ]
  },
  {
   "cell_type": "code",
   "execution_count": 9,
   "id": "81bf2b65-3a2d-464b-a674-2c9c11eeaeca",
   "metadata": {},
   "outputs": [
    {
     "name": "stdout",
     "output_type": "stream",
     "text": [
      "0\n",
      "1\n",
      "1\n",
      "2\n",
      "3\n",
      "5\n",
      "8\n",
      "13\n",
      "21\n",
      "34\n"
     ]
    }
   ],
   "source": [
    "class FibonacciIterator:\n",
    "    def __init__(self, num_terms):\n",
    "        self.num_terms = num_terms\n",
    "        self.current = 0\n",
    "        self.next = 1\n",
    "        self.index = 0\n",
    "\n",
    "    def __iter__(self):\n",
    "        return self\n",
    "\n",
    "    def __next__(self):\n",
    "        if self.index >= self.num_terms:\n",
    "            raise StopIteration\n",
    "        if self.index == 0:\n",
    "            self.index += 1\n",
    "            return self.current\n",
    "        elif self.index == 1:\n",
    "            self.index += 1\n",
    "            return self.next\n",
    "        else:\n",
    "            fib = self.current + self.next\n",
    "            self.current, self.next = self.next, fib\n",
    "            self.index += 1\n",
    "            return fib\n",
    "\n",
    "# Example usage:\n",
    "num_terms = 10\n",
    "fib_iterator = FibonacciIterator(num_terms)\n",
    "\n",
    "for fib in fib_iterator:\n",
    "    print(fib)\n"
   ]
  },
  {
   "cell_type": "markdown",
   "id": "ae6247a3-0a69-47a7-bbe6-52a54255c667",
   "metadata": {},
   "source": [
    "### Q6. Write a generator function in Python that yields the powers of 2 up to a given exponent."
   ]
  },
  {
   "cell_type": "code",
   "execution_count": 70,
   "id": "f0ee6fc6-80eb-4e53-8968-0277d17718a1",
   "metadata": {},
   "outputs": [],
   "source": [
    "def power_num(n):\n",
    "    for i in range(n):\n",
    "        yield i**2\n",
    "\n",
    "# it yields the powers of 2 upto to a given n"
   ]
  },
  {
   "cell_type": "code",
   "execution_count": 68,
   "id": "d7ced4de-2717-4820-864a-9fbe5f997405",
   "metadata": {},
   "outputs": [],
   "source": [
    "power= power_num(5)"
   ]
  },
  {
   "cell_type": "code",
   "execution_count": 69,
   "id": "588b66bf-b503-449e-9713-222b9b751b42",
   "metadata": {},
   "outputs": [
    {
     "name": "stdout",
     "output_type": "stream",
     "text": [
      "0\n",
      "1\n",
      "4\n",
      "9\n",
      "16\n"
     ]
    }
   ],
   "source": [
    "print(next(power))\n",
    "print(next(power))\n",
    "print(next(power))\n",
    "print(next(power))\n",
    "print(next(power))"
   ]
  },
  {
   "cell_type": "markdown",
   "id": "6fbc6ea1-2922-4012-9557-8762d8494d9f",
   "metadata": {},
   "source": [
    "### Q7.  Implement a generator function that reads a file line by line and yields each line as a string."
   ]
  },
  {
   "cell_type": "code",
   "execution_count": 41,
   "id": "9036004a-b206-42c9-a33d-c437358f7a8a",
   "metadata": {},
   "outputs": [],
   "source": [
    "def read_file_line_by_line(file_path):\n",
    "    \"\"\"\n",
    "    Generator function to read a file line by line.\n",
    "\n",
    "    Args:\n",
    "        file_path (str): Path to the file to be read.\n",
    "\n",
    "    Yields:\n",
    "        str: Each line in the file as a string.\n",
    "    \"\"\"\n",
    "    try:\n",
    "        with open(file_path, 'r', encoding='utf-8') as file:\n",
    "            for line in file:\n",
    "                yield line.rstrip('\\n')  # Remove trailing newline characters\n",
    "    except FileNotFoundError:\n",
    "        print(f\"Error: The file at '{file_path}' was not found.\")\n"
   ]
  },
  {
   "cell_type": "code",
   "execution_count": 42,
   "id": "d2901f5c-4cff-4bce-a955-ddd3e922d446",
   "metadata": {},
   "outputs": [
    {
     "name": "stdout",
     "output_type": "stream",
     "text": [
      "Error: The file at 'example.txt' was not found.\n"
     ]
    }
   ],
   "source": [
    "file_path = 'example.txt'\n",
    "\n",
    "for line in read_file_line_by_line(file_path):\n",
    "    print(line)\n"
   ]
  },
  {
   "cell_type": "markdown",
   "id": "9fdadacc-faf2-479c-b489-7ce64d7607af",
   "metadata": {},
   "source": [
    "### Q8.  Use a lambda function in Python to sort a list of tuples based on the second element of each tuple."
   ]
  },
  {
   "cell_type": "code",
   "execution_count": 1,
   "id": "273f37e8-e96d-43ac-9e67-086fcc55d75a",
   "metadata": {},
   "outputs": [
    {
     "name": "stdout",
     "output_type": "stream",
     "text": [
      "[(5, 0), (4, 1), (2, 2), (1, 3)]\n"
     ]
    }
   ],
   "source": [
    "# Example list of tuples\n",
    "tuples_list = [(1, 3), (4, 1), (2, 2), (5, 0)]\n",
    "\n",
    "# Sorting the list based on the second element of each tuple\n",
    "sorted_list = sorted(tuples_list, key=lambda x: x[1])\n",
    "\n",
    "print(sorted_list)\n"
   ]
  },
  {
   "cell_type": "markdown",
   "id": "60c3d8a4-8137-4eba-affb-7aefcb2e37af",
   "metadata": {},
   "source": [
    "### Q9. Write a Python program that uses map() to convert a list of temperatures from Celsius to Fahrenheit."
   ]
  },
  {
   "cell_type": "code",
   "execution_count": 8,
   "id": "4710963b-362d-4a9b-9960-676869617d8c",
   "metadata": {},
   "outputs": [
    {
     "data": {
      "text/plain": [
       "[113.0, 152.6, 132.8, 192.2]"
      ]
     },
     "execution_count": 8,
     "metadata": {},
     "output_type": "execute_result"
    }
   ],
   "source": [
    "temp=[45,67,56,89]#list of temperatures in celsius\n",
    "def celsius_to_fahrenheit(temp):\n",
    "    return (temp * 9/5) + 32\n",
    "\n",
    "# Use map() to apply the conversion function to the list\n",
    "fahrenheit_temperatures = list(map(celsius_to_fahrenheit, temp))\n",
    "fahrenheit_temperatures #temperatures in Fahrenheit\n"
   ]
  },
  {
   "cell_type": "markdown",
   "id": "b496f09b-e16b-4f8d-9a8d-9a08a32da924",
   "metadata": {},
   "source": [
    "### Q10. Create a Python program that uses filter() to remove all the vowels from a given string."
   ]
  },
  {
   "cell_type": "code",
   "execution_count": 16,
   "id": "bda7ec5f-5835-4dbe-8ac1-419f40852f42",
   "metadata": {},
   "outputs": [
    {
     "name": "stdout",
     "output_type": "stream",
     "text": [
      "String without vowels: nglsh Lngg\n"
     ]
    }
   ],
   "source": [
    "def remove_vowels(input_string):\n",
    "    vowels = 'aeiouAEIOU'\n",
    "    # Use filter to exclude vowels\n",
    "    result = ''.join(filter(lambda char: char not in vowels, input_string))\n",
    "    return result\n",
    "\n",
    "# Example usage\n",
    "input_string = \"English Language\"\n",
    "output_string = remove_vowels(input_string)\n",
    "print(\"String without vowels:\", output_string) #string without vowels\n"
   ]
  },
  {
   "cell_type": "markdown",
   "id": "7e097ca8-6628-47f8-9702-9740acf92112",
   "metadata": {},
   "source": [
    "### Q11. Write a Python program, which returns a list with 2-tuples. Each tuple consists of the order number and the product of the price per item and the quantity. The product should be increased by 10,- € if the value of the order is smaller than 100,00 €.\n",
    "\n",
    "#### Write a Python program using lambda and map."
   ]
  },
  {
   "cell_type": "code",
   "execution_count": 43,
   "id": "444a29df-bf10-4ffa-91ec-0aead86b712c",
   "metadata": {},
   "outputs": [
    {
     "name": "stdout",
     "output_type": "stream",
     "text": [
      "[(34587, 163.8), (98762, 284.0), (77226, 108.85000000000001), (88112, 84.97)]\n"
     ]
    }
   ],
   "source": [
    "def calculate_order_values(order_data):\n",
    "    return list(map(lambda order: (order[0], order[2] * order[3] + 10 if order[2] * order[3] < 100 \n",
    "                                                                         else order[2] * order[3]), order_data))\n",
    "\n",
    "# Example usage\n",
    "order_data = [\n",
    "    [34587, \"Learning Python, Mark Lutz\", 4, 40.95],\n",
    "    [98762, \"Programming Python, Mark Lutz\", 5, 56.80],\n",
    "    [77226, \"Head First Python, Paul Barry\", 3, 32.95],\n",
    "    [88112, \"Einführung in Python3, Bernd Klein\", 3, 24.99]\n",
    "]\n",
    "\n",
    "result = calculate_order_values(order_data)\n",
    "print(result)"
   ]
  },
  {
   "cell_type": "markdown",
   "id": "3bb00f9e-f8ae-43a5-861c-dfa61f0ebcf8",
   "metadata": {},
   "source": [
    "### Q12. Write a python program using lambda and map function."
   ]
  },
  {
   "cell_type": "code",
   "execution_count": 40,
   "id": "622e1350-cbfe-4fe3-9c37-35ab66737190",
   "metadata": {},
   "outputs": [
    {
     "data": {
      "text/plain": [
       "[9, 16, 25, 36]"
      ]
     },
     "execution_count": 40,
     "metadata": {},
     "output_type": "execute_result"
    }
   ],
   "source": [
    "li=[3,4,5,6]\n",
    "square=list(map(lambda x:x**2, li))#squaring the elements of the list\n",
    "square"
   ]
  }
 ],
 "metadata": {
  "kernelspec": {
   "display_name": "Python [conda env:base] *",
   "language": "python",
   "name": "conda-base-py"
  },
  "language_info": {
   "codemirror_mode": {
    "name": "ipython",
    "version": 3
   },
   "file_extension": ".py",
   "mimetype": "text/x-python",
   "name": "python",
   "nbconvert_exporter": "python",
   "pygments_lexer": "ipython3",
   "version": "3.13.5"
  }
 },
 "nbformat": 4,
 "nbformat_minor": 5
}
